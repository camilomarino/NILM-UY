{
 "cells": [
  {
   "cell_type": "markdown",
   "metadata": {},
   "source": [
    "# Ejemplo de uso de biblioteca uk-nilm"
   ]
  },
  {
   "cell_type": "markdown",
   "metadata": {},
   "source": [
    "### Celda Colab\n",
    "Si se corre en Colab tendra que montar su google drive y seleccionar en ***PATH_DRIVE*** el directorio en el que esta clonado su repositorio"
   ]
  },
  {
   "cell_type": "code",
   "execution_count": null,
   "metadata": {},
   "outputs": [],
   "source": [
    "PATH_DRIVE =  '/content/drive/My Drive/base_de_datos_nilm'\n",
    "import os\n",
    "if 'COLAB_GPU' in os.environ:\n",
    "   print(\"Estoy corriendo en Colab\")\n",
    "   from google.colab import drive\n",
    "   drive.mount('/content/drive')\n",
    "   %cd $PATH_DRIVE\n",
    "   \n",
    "else:\n",
    "   print(\"NO estoy corriendo en Colab\")"
   ]
  },
  {
   "cell_type": "markdown",
   "metadata": {},
   "source": [
    "## Importo Librerias"
   ]
  },
  {
   "cell_type": "code",
   "execution_count": null,
   "metadata": {},
   "outputs": [],
   "source": [
    "import copy\n",
    "import uk\n",
    "%load_ext autoreload\n",
    "%autoreload 2"
   ]
  },
  {
   "cell_type": "markdown",
   "metadata": {},
   "source": [
    "## Carga de datos\n",
    "Se tienen datos de 5 casas de Reino Unido (UK). La carga consiste en adquirir el .h5 que suministra el autor y cargalo como dataframe (objecto pandas).\n",
    "Una vez cargados, se los divide en 2 tramos, los datos de inicio y los datos de fin.\n",
    "\n",
    "**datos_ini/fin** : diccionarios cuya primera key es el numero de casa y su segunda key es el nombre del electrodomestico.\n",
    "\n",
    "Nota: el .h5 se puede encontrar en: \n",
    "\n",
    "https://data.ukedc.rl.ac.uk/browse/edc/efficiency/residential/EnergyConsumption/Domestic/UK-DALE-2017/UK-DALE-FULL-disaggregated"
   ]
  },
  {
   "cell_type": "code",
   "execution_count": null,
   "metadata": {
    "scrolled": true
   },
   "outputs": [],
   "source": [
    "ruta = 'ukdale.h5'\n",
    "datos = uk.carga_datos_desde_hdf(ruta, verbose=True)\n",
    "datos_ini, datos_fin = uk.separacion_datos(datos, dias_final=14, verbose=True)\n",
    "del datos #libero ram ya que ocupa al rededor de 7gb de RAM"
   ]
  },
  {
   "cell_type": "markdown",
   "metadata": {},
   "source": [
    "#### Guardar procesamiento\n",
    "Dado que el procesamiento anterior es costoso, se sumintran funciones para guardar y cargar los datos procesados.\n",
    "Una vez calculados, sientase libre de guardar los datos y no procesarlos más.\n",
    "\n",
    "Si el procesamiento fuera muy costoso, se puede descargar los datos ya procesados desde: \n",
    "\n",
    "https://iie.fing.edu.uy/~cmarino/NILM/datos_ini.pickle\n",
    "\n",
    "https://iie.fing.edu.uy/~cmarino/NILM/datos_fin.pickle\n",
    "\n",
    "Nota: no se garantiza que los datos anteriores se encuentren accesibles en un futuro cercano.\n"
   ]
  },
  {
   "cell_type": "code",
   "execution_count": null,
   "metadata": {},
   "outputs": [],
   "source": [
    "# # La siguiente celda sirve para guardar los datos\n",
    "# uk.guardar(datos_ini, 'datos_ini.pickle')\n",
    "# uk.guardar(datos_fin, 'datos_fin.pickle')"
   ]
  },
  {
   "cell_type": "code",
   "execution_count": null,
   "metadata": {},
   "outputs": [],
   "source": [
    "# # La siguiente celda sirve para cargar los datos\n",
    "# datos_ini = uk.cargar('datos_ini.pickle')\n",
    "# datos_fin = uk.cargar('datos_fin.pickle')"
   ]
  },
  {
   "cell_type": "markdown",
   "metadata": {},
   "source": [
    "## Activaciones\n",
    "Una activación de un electrodomestico corresponde a un ciclo de trabajo del mismo.\n",
    "<br><br>\n",
    "### Parametros de calculo de activaciones\n",
    "*Estos parametros son utilizados para determinar en la serie desagregada de consumo cuando se encuentra una activación. Estos aparecen en **\"Table 4: Arguments passed to get_activations().\" del paper de Jack Kelly**.*\n",
    "<br><br>\n",
    "Descripción de parametros:\n",
    "\n",
    "**on_power_threshold** : Umbral en Watts que determina si un electrodomestico esta encendido o no\n",
    "\n",
    "**min_on_duration**    : Duración mínima en minutos que debe tener una activación (largo mínimo del ciclo de trabajo)\n",
    "\n",
    "**min_off_duration**   : Duración mínima en minutos que debe estar apagado(por debajo de \"on_power_threshold\") el electrodomestico para que se considere que finalizo la activación.\n",
    "<br><br>\n",
    "Nota: Jack Kelly en su publicacion utiliza \"Max power\", pero acá no es utilizado, esto se debe a que la propia función que él suministra NILM-TK no la utiliza."
   ]
  },
  {
   "cell_type": "code",
   "execution_count": null,
   "metadata": {},
   "outputs": [],
   "source": [
    "# Definicion de parametros\n",
    "# Parámetros de las activaciones\n",
    "parametros_kettle = {\"min_off_duration\": 0, \"min_on_duration\": 12, \n",
    "                     \"on_power_threshold\": 2000}\n",
    "parametros_fridge = {\"min_off_duration\": 12, \"min_on_duration\": 60, \n",
    "                     \"on_power_threshold\": 50}\n",
    "parametros_washing = {\"min_off_duration\": 160, \"min_on_duration\": 1800, \n",
    "                      \"on_power_threshold\": 20}\n",
    "parametros_microwave = {\"min_off_duration\": 30, \"min_on_duration\": 12, \n",
    "                        \"on_power_threshold\": 200}\n",
    "parametros_dish = {\"min_off_duration\": 1800, \"min_on_duration\": 1800, \n",
    "                   \"on_power_threshold\": 10}\n",
    "\n",
    "parametros = {\"kettle\": parametros_kettle, \"fridge\": parametros_fridge, \n",
    "              \"washing\": parametros_washing, \"microwave\": parametros_microwave,\n",
    "              \"dish\": parametros_dish }\n",
    "\n",
    "\n",
    "\n"
   ]
  },
  {
   "cell_type": "markdown",
   "metadata": {},
   "source": [
    "## Ventanas de activaciones\n",
    "Las ventanas son utilizadas para el entrenamiento de las redes neuronales profundas utilizadas. Los vectores de entrenamiento X serán un conjunto de ventanas (las filas de la matriz X son una ventana).\n",
    "Una ventana es un tramo de serie temporal que contiene o no una activación. Se calcularan ventanas con activaciones y ventanas sin activaciones para cada uno de los electrodomésticos. \n",
    "<br><br>\n",
    "### Parametros de largo de ventanas\n",
    "*Estos parametros son los que aparecen en la sección **\"3. TRAINING DATA\"**, en particualar dice \"The window width is decided on an appliance-by-appliance basis and varies from 128 samples (13 minutes) for the kettle to 1536 samples (2.5 hours) for the dish washer.\"*\n",
    "<br><br>\n",
    "El parametro fundamental para generar una ventana es su largo o \"win_len\".\n",
    "**win_len** : Es la duración en minutos de la ventana.\n",
    "<br>\n",
    "Nota: en el articulo de referencia no se explicita el largo para todos los electrodomésticos, por lo tanto se eligen por inspección sobre train."
   ]
  },
  {
   "cell_type": "code",
   "execution_count": null,
   "metadata": {},
   "outputs": [],
   "source": [
    "# Largos de ventana\n",
    "win_len = {\"kettle\": 13, \"fridge\": 60, \"washing\": 180, \"microwave\": 10,\n",
    "           \"dish\": 150 }"
   ]
  },
  {
   "cell_type": "markdown",
   "metadata": {},
   "source": [
    "## Semilla\n",
    "Se fija la semilla para el generador de numeros pseudoaleatorio."
   ]
  },
  {
   "cell_type": "code",
   "execution_count": null,
   "metadata": {},
   "outputs": [],
   "source": [
    "seed = 5"
   ]
  },
  {
   "cell_type": "markdown",
   "metadata": {},
   "source": [
    "## Calculo de vectores de UN solo electrodomestico\n",
    "Se muestra modo de ejemplo como se utiliza la funcion crear_vectores(...).\n",
    "\n",
    "Esta recibe los siguientes parametros:<br>\n",
    "**datos**            : conjunto de datos a utilizar<br>\n",
    "**electrodomestico** : nombre del electrodomestico para el cual se calular los vectores<br>\n",
    "**numeros_casas**    : lista de numeros de casas que se usan para calcular los vectores<br>\n",
    "**parametros**       : los parametros de calculo de activaciones<br>\n",
    "**largo_de_ventana** : el largo de ventana en minutos<br>\n",
    "**tipo_red**         : pueden generarse datos para una arquitectura de **RECTANGULOS O AUTOENCODER**<br>\n",
    "**seed**             : el numero de semilla<br>\n",
    "**verbose**          : modo verboso"
   ]
  },
  {
   "cell_type": "code",
   "execution_count": null,
   "metadata": {
    "lines_to_next_cell": 2
   },
   "outputs": [],
   "source": [
    "# #Ejemplo de creacion de vectores de un electrodomestico para una unica casa\n",
    "x, y = uk.crear_vectores(datos = datos_ini, \n",
    "                                electrodomestico = 'fridge', \n",
    "                                numeros_casas = [2],\n",
    "                                parametros = parametros['fridge'], \n",
    "                                largo_de_ventana = win_len['fridge'],\n",
    "                                tipo_red = 'autoencoder', \n",
    "                                seed = seed,                            \n",
    "                                verbose = True)"
   ]
  },
  {
   "cell_type": "markdown",
   "metadata": {},
   "source": [
    "## Calculo de vectores de TODOS los electrodomesticos\n",
    "Se suministra un script capaz de calcular todas las activaciones en una estructura de diccionario.\n",
    "\n",
    "Tambien se implementaron una serie de funciones para el guardado automatico de vectores con este metodo."
   ]
  },
  {
   "cell_type": "markdown",
   "metadata": {},
   "source": [
    "### Se determinan las casas a utilizar para cada electrodomestico\n",
    "Estos parametros determinan que casas se utilizar para train y test"
   ]
  },
  {
   "cell_type": "code",
   "execution_count": null,
   "metadata": {
    "lines_to_next_cell": 2,
    "scrolled": true
   },
   "outputs": [],
   "source": [
    "# Ejemplo de como es posible crear todos los x,y en loop\n",
    "# La forma de los vectores que contendran los datos es la  siguiente:\n",
    "# x_test/train_visto/novisto['tipo_red']['electrodomestico']\n",
    "electrodomesticos = ['kettle', 'fridge', 'washing', 'microwave', 'dish']\n",
    "numeros_casas_train_validacion = {'kettle' : [1,2,3,4], \n",
    "                                   'fridge' : [1,2,4], \n",
    "                                   'washing' : [1,5], \n",
    "                                   'microwave' : [1,2], \n",
    "                                   'dish' : [1,2],\n",
    "                                   }\n",
    "numeros_casas_test_no_visto = {'kettle' : [5], \n",
    "                               'fridge' : [5], \n",
    "                               'washing' : [2], \n",
    "                               'microwave' : [5], \n",
    "                               'dish' : [5],\n",
    "                               }"
   ]
  },
  {
   "cell_type": "markdown",
   "metadata": {},
   "source": [
    "### Se calculan los vectores\n",
    "Los vectores de numpy se encuentran agrupados en dobles diccionarios.<br>\n",
    "\n",
    "Por ejemplo, x_train_validacion['autoencoder']['kettle'] tendra el vector X de tipo autoencoder para la heladera.<br>\n",
    "\n",
    "Se tiene una estructura de doble diccionario para cada conjunto (test, test no visto, train y validacion).\n"
   ]
  },
  {
   "cell_type": "code",
   "execution_count": null,
   "metadata": {},
   "outputs": [],
   "source": [
    "tipos_red = ['autoencoder', 'rectangulos']\n",
    "\n",
    "\n",
    "modelo_vector = {'autoencoder' : {'kettle' : None,\n",
    "                                        'fridge' : None,\n",
    "                                        'washing' : None,\n",
    "                                        'microwave' : None,\n",
    "                                        'dish' : None},\n",
    "                'rectangulos' : {'kettle' : None,\n",
    "                                  'fridge' : None,\n",
    "                                  'washing' : None,\n",
    "                                  'microwave' : None,\n",
    "                                  'dish' : None}\n",
    "                }"
   ]
  },
  {
   "cell_type": "code",
   "execution_count": null,
   "metadata": {
    "scrolled": true
   },
   "outputs": [],
   "source": [
    "\n",
    "# Se copia la estructura de doble diccionario (dado que es diccionario doble se usa deepcopy)\n",
    "x_train_validacion = copy.deepcopy(modelo_vector)\n",
    "y_train_validacion = copy.deepcopy(modelo_vector)\n",
    "x_train = copy.deepcopy(modelo_vector)\n",
    "y_train = copy.deepcopy(modelo_vector)\n",
    "x_validacion = copy.deepcopy(modelo_vector)\n",
    "y_validacion = copy.deepcopy(modelo_vector)\n",
    "x_test_no_visto = copy.deepcopy(modelo_vector)\n",
    "y_test_no_visto = copy.deepcopy(modelo_vector)\n",
    "x_test_visto = copy.deepcopy(modelo_vector)\n",
    "y_test_visto = copy.deepcopy(modelo_vector)\n",
    "\n",
    "#Calculo de datos de train-validacion\n",
    "for tipo_red in tipos_red:\n",
    "    for elec in electrodomesticos:\n",
    "        x_train_validacion[tipo_red][elec], y_train_validacion[tipo_red][elec] = (\n",
    "                uk.crear_vectores(\n",
    "                        datos = datos_ini, \n",
    "                        electrodomestico = elec, \n",
    "                        numeros_casas = numeros_casas_train_validacion[elec],\n",
    "                        parametros = parametros[elec], \n",
    "                        largo_de_ventana = win_len[elec],\n",
    "                        tipo_red = tipo_red, \n",
    "                        seed = seed,\n",
    "                        verbose = True)\n",
    "                )\n",
    "        \n",
    "#Se divide en conjunto de test y validacion\n",
    "from sklearn.model_selection import train_test_split\n",
    "val_size = 0.2\n",
    "for tipo_red in tipos_red:\n",
    "    for elec in electrodomesticos:\n",
    "        (x_train[tipo_red][elec], x_validacion[tipo_red][elec], \n",
    "        y_train[tipo_red][elec], y_validacion[tipo_red][elec]) = (\n",
    "                train_test_split(x_train_validacion[tipo_red][elec], \n",
    "                                 y_train_validacion[tipo_red][elec], \n",
    "                                 test_size = val_size,\n",
    "                                 random_state = seed)\n",
    "                )\n",
    "del x_train_validacion, y_train_validacion\n",
    "\n",
    "#Calculo de datos de test no visto\n",
    "for tipo_red in tipos_red:\n",
    "    for elec in electrodomesticos:\n",
    "        x_test_no_visto[tipo_red][elec], y_test_no_visto[tipo_red][elec] = (\n",
    "                uk.crear_vectores(\n",
    "                        datos = datos_ini, \n",
    "                        electrodomestico = elec, \n",
    "                        numeros_casas = numeros_casas_test_no_visto[elec],\n",
    "                        parametros = parametros[elec], \n",
    "                        largo_de_ventana = win_len[elec],\n",
    "                        tipo_red = tipo_red, \n",
    "                        seed = seed,\n",
    "                        verbose = True)\n",
    "                )\n",
    "\n",
    "#calculo de datos de test visto\n",
    "for tipo_red in tipos_red:\n",
    "    for elec in electrodomesticos:\n",
    "        x_test_visto[tipo_red][elec], y_test_visto[tipo_red][elec] = (\n",
    "                uk.crear_vectores(\n",
    "                        datos = datos_fin, \n",
    "                        electrodomestico = elec, \n",
    "                        numeros_casas = numeros_casas_train_validacion[elec],\n",
    "                        parametros = parametros[elec], \n",
    "                        largo_de_ventana = win_len[elec],\n",
    "                        tipo_red = tipo_red, \n",
    "                        seed = seed,\n",
    "                        verbose = True)\n",
    "                )"
   ]
  },
  {
   "cell_type": "markdown",
   "metadata": {},
   "source": [
    "### Generacion de datos sinteticos"
   ]
  },
  {
   "cell_type": "code",
   "execution_count": null,
   "metadata": {
    "lines_to_next_cell": 2
   },
   "outputs": [],
   "source": [
    "numeros_casas_sintetico = {'kettle' : [1,2,3,4], \n",
    "                           'fridge' : [1,2,4], \n",
    "                           'washing' : [1,5], \n",
    "                           'microwave' : [1,2], \n",
    "                           'dish' : [1,2],\n",
    "                           }"
   ]
  },
  {
   "cell_type": "code",
   "execution_count": null,
   "metadata": {},
   "outputs": [],
   "source": [
    "x_sintetico = copy.deepcopy(modelo_vector)\n",
    "y_sintetico = copy.deepcopy(modelo_vector)"
   ]
  },
  {
   "cell_type": "code",
   "execution_count": null,
   "metadata": {},
   "outputs": [],
   "source": [
    "for tipo_red in tipos_red:\n",
    "    for elec in electrodomesticos:\n",
    "        x_sintetico[tipo_red][elec], y_sintetico[tipo_red][elec] = (\n",
    "                uk.crear_vectores_sinteticos(\n",
    "                        datos = datos_ini, \n",
    "                        electrodomestico_base = elec, \n",
    "                        electrodemsticos_distractores = [e for e in electrodomesticos if e!=elec],\n",
    "                        numeros_casas = numeros_casas_sintetico[elec],\n",
    "                        parametros = parametros, \n",
    "                        largo_de_ventana = win_len[elec],\n",
    "                        tipo_red = tipo_red, \n",
    "                        cant_a_calcular = 1000,\n",
    "                        prob_distractores = 0.5, \n",
    "                        seed = seed)\n",
    "                )"
   ]
  },
  {
   "cell_type": "markdown",
   "metadata": {},
   "source": [
    "### Guardar procesamiento\n",
    "Dada la estrucutra propuesta, se suministran funciones para el guardado automatico de estos vectores. <br>\n",
    "Se recomienda, para cada conjunto de parametros utlizados, guardar los vectores y no recalular cada vez.\n",
    "\n",
    "La ruza base indica el directorio raiz de el arbol de archivos.\n",
    "\n",
    "guardar_X_y(...) recibe:<br>\n",
    "**x** : el vector X (nummpy array)<br>\n",
    "**y** : el vector objetivo Y (nummpy array)<br>\n",
    "**tipo_data** : el nombre de los datos (brinda la posibilidad de integrarlo con datos de alta frecuencia en la misma estructira de carpetas)<br>\n",
    "**ruta_base** : directorio raiz"
   ]
  },
  {
   "cell_type": "code",
   "execution_count": null,
   "metadata": {},
   "outputs": [],
   "source": [
    "#Ejemplo de como guardar los datos\n",
    "## Genera la estructura de carpets necesaria\n",
    "uk.crear_estructura_carpetas(ruta_base = 'vectores')\n",
    "## Guarda los datos X e y como .npy\n",
    "uk.guardar_X_y(x_train, y_train, 'data', 'train', ruta_base = 'vectores')\n",
    "uk.guardar_X_y(x_validacion, y_validacion, 'data', 'validacion', ruta_base = 'vectores')\n",
    "uk.guardar_X_y(x_test_no_visto, y_test_no_visto, 'data', 'test_no_visto', ruta_base = 'vectores')\n",
    "uk.guardar_X_y(x_test_visto, y_test_visto, 'data', 'test_visto', ruta_base = 'vectores')\n",
    "uk.guardar_X_y(x_sintetico, y_sintetico, 'data', 'sintetico', ruta_base = 'vectores')"
   ]
  },
  {
   "cell_type": "markdown",
   "metadata": {},
   "source": [
    "### Cargar procesamiento\n",
    "En caso que el procesamiento sea costoso, se pueden descargar los datos procesados (con los parametros mostrados en este notebook) desde:\n",
    "\n",
    "https://iie.fing.edu.uy/~cmarino/NILM/vectores.zip\n",
    "\n",
    "Nota: no se garantiza que los datos anteriores se encuentren accesibles en un futuro cercano."
   ]
  },
  {
   "cell_type": "code",
   "execution_count": null,
   "metadata": {},
   "outputs": [],
   "source": [
    "# #Ejemplo de como cargar datos guardados\n",
    "# x_train, y_train = uk.cargar_X_y('data', 'train', ruta_base = 'vectores')\n",
    "# x_validacion, y_validacion = uk.cargar_X_y('data', 'validacion', ruta_base = 'vectores')\n",
    "# x_test_no_visto, y_test_no_visto = uk.cargar_X_y('data', 'test_no_visto', ruta_base = 'vectores')\n",
    "# x_test_visto, y_test_visto = uk.cargar_X_y('data', 'test_visto', ruta_base = 'vectores')"
   ]
  },
  {
   "cell_type": "markdown",
   "metadata": {},
   "source": [
    "### Plot de algunos ejemplos\n",
    "Una forma de visualizar los datos es imprimiendo directamente las filas de los X e Y.\n",
    "\n",
    "Utilizando la potencialidad de que las ultimas 3 columnas de X guardamos metadatos (timestamp de inicio, timestamp de fin y numero de casa) es posible recuperar la serie de pandas agregada y desagregada y hacer un plot con estos datos.\n",
    "\n",
    "La funcion visualizar(...) recibe: <br>\n",
    "**datos** : el doble diccionario de datos<br>\n",
    "**x** : el vector X<br>\n",
    "**y** : el vector Y<br>\n",
    "**elec** : el nombre de electrodomestico de los datos"
   ]
  },
  {
   "cell_type": "code",
   "execution_count": null,
   "metadata": {
    "scrolled": false
   },
   "outputs": [],
   "source": [
    "#Visualizacion de datos en forma de dataframe\n",
    "%matplotlib notebook\n",
    "elec = 'dish'\n",
    "i = 2\n",
    "uk.visualizar(datos_ini, x_train['autoencoder'][elec][i], \n",
    "                      y_train['autoencoder'][elec][i], elec)\n",
    "uk.visualizar(datos_ini, x_train['rectangulos'][elec][i], \n",
    "                      y_train['rectangulos'][elec][i], elec)"
   ]
  }
 ],
 "metadata": {
  "jupytext": {
   "encoding": "# -*- coding: utf-8 -*-",
   "formats": "ipynb,notebooks_py//py:percent"
  },
  "kernelspec": {
   "display_name": "Python 3",
   "language": "python",
   "name": "python3"
  },
  "language_info": {
   "codemirror_mode": {
    "name": "ipython",
    "version": 3
   },
   "file_extension": ".py",
   "mimetype": "text/x-python",
   "name": "python",
   "nbconvert_exporter": "python",
   "pygments_lexer": "ipython3",
   "version": "3.8.3"
  }
 },
 "nbformat": 4,
 "nbformat_minor": 4
}
