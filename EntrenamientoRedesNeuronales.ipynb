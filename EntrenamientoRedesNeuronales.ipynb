{
 "cells": [
  {
   "cell_type": "markdown",
   "metadata": {},
   "source": [
    "# Ejemplo de uso de biblioteca uk-nilm"
   ]
  },
  {
   "cell_type": "markdown",
   "metadata": {},
   "source": [
    "## Celda Colab\n",
    "Si se corre en Colab tendra que montar su google drive y seleccionar en ***PATH_DRIVE*** el directorio en el que esta clonado su repositorio"
   ]
  },
  {
   "cell_type": "code",
   "execution_count": null,
   "metadata": {},
   "outputs": [],
   "source": [
    "PATH_DRIVE =  '/content/drive/My Drive/base_de_datos_nilm'\n",
    "import os\n",
    "if 'COLAB_GPU' in os.environ:\n",
    "    print(\"Estoy corriendo en Colab\")\n",
    "    %tensorflow_version 2.x\n",
    "    import tensorflow as tf\n",
    "    device_name = tf.test.gpu_device_name()\n",
    "    if device_name != '/device:GPU:0':\n",
    "        raise SystemError('No se ha activado la GPU de Colab')\n",
    "    print('Found GPU at: {}'.format(device_name))\n",
    "    from google.colab import drive\n",
    "    drive.mount('/content/drive')\n",
    "    %cd $PATH_DRIVE\n",
    "   \n",
    "else:\n",
    "   print(\"NO estoy corriendo en Colab\")"
   ]
  },
  {
   "cell_type": "markdown",
   "metadata": {},
   "source": [
    "## Importo librerias"
   ]
  },
  {
   "cell_type": "code",
   "execution_count": null,
   "metadata": {},
   "outputs": [],
   "source": [
    "import os\n",
    "if 'COLAB_GPU' in os.environ:\n",
    "    print(\"Estoy corriendo en Colab\")\n",
    "    %tensorflow_version 2.x\n",
    "    import tensorflow as tf\n",
    "    device_name = tf.test.gpu_device_name()\n",
    "    if device_name != '/device:GPU:0':\n",
    "      raise SystemError('No se ha activado la GPU de Colab')\n",
    "    print('Found GPU at: {}'.format(device_name))\n",
    "else:\n",
    "    print(\"NO estoy corriendo en Colab\")\n",
    "    import tensorflow as tf"
   ]
  },
  {
   "cell_type": "code",
   "execution_count": null,
   "metadata": {},
   "outputs": [],
   "source": [
    "import numpy as np\n",
    "import matplotlib.pyplot as plt\n",
    "import uk"
   ]
  },
  {
   "cell_type": "markdown",
   "metadata": {},
   "source": [
    "## Cargo parametros"
   ]
  },
  {
   "cell_type": "code",
   "execution_count": null,
   "metadata": {},
   "outputs": [],
   "source": [
    "ELECTRODOMESTICO = 'kettle' #Electrodomestico para el que se entrenara la red\n",
    "TIPO_RED = 'rectangulos' #Tipo de red a utilizar\n",
    "NUM_EPOCAS = 20 #numero de epocas de entrenamiento\n",
    "RUTA_DE_DATOS_X_Y = 'vectores' #Carpeta en la cual se encuentran guardados los vectores X e Y\n",
    "RUTA_DATOS_ENTRENAMIENTO = 'pesos' #Carpeta en la que se guardaran los datos generados en el entrenamiento"
   ]
  },
  {
   "cell_type": "markdown",
   "metadata": {},
   "source": [
    "## Cargo datos\n",
    "Los datos pueden ser generados mediante el notebook \"Procesamiento de datos\" o bajarlos desde: https://iie.fing.edu.uy/~cmarino/NILM/vectores.zip\n",
    "\n",
    "Nota: no se garantiza que los datos anteriores se encuentren accesibles en un futuro cercano."
   ]
  },
  {
   "cell_type": "code",
   "execution_count": null,
   "metadata": {},
   "outputs": [],
   "source": [
    "x_train, y_train = uk.cargar_X_y('data', 'train', ruta_base = RUTA_DE_DATOS_X_Y)\n",
    "x_validacion, y_validacion = uk.cargar_X_y('data', 'validacion', ruta_base = RUTA_DE_DATOS_X_Y)\n",
    "# x_test_no_visto, y_test_no_visto = uk.cargar_X_y('data', 'test_no_visto', ruta_base = 'vectores')\n",
    "# x_test_visto, y_test_visto = uk.cargar_X_y('data', 'test_visto', ruta_base = 'vectores')"
   ]
  },
  {
   "cell_type": "markdown",
   "metadata": {},
   "source": [
    "#### Se selecciona el ELECTRODOMESTICO y red a utilizar"
   ]
  },
  {
   "cell_type": "code",
   "execution_count": null,
   "metadata": {},
   "outputs": [],
   "source": [
    "X_train = x_train[TIPO_RED][ELECTRODOMESTICO]\n",
    "X_val = x_validacion[TIPO_RED][ELECTRODOMESTICO]\n",
    "X_train = x_train[TIPO_RED][ELECTRODOMESTICO]\n",
    "X_val = x_validacion[TIPO_RED][ELECTRODOMESTICO]\n",
    "y_train = y_train[TIPO_RED][ELECTRODOMESTICO]\n",
    "y_val = y_validacion[TIPO_RED][ELECTRODOMESTICO]\n",
    "\n",
    "# El expand dims es necesario para entrenar, tensorflow solicita un vector de 3 dimensiones\n",
    "X_train = np.expand_dims(\n",
    "    X_train[:, :-3], axis=2\n",
    ")\n",
    "X_val = np.expand_dims(\n",
    "    X_val[:, :-3], axis=2\n",
    ")"
   ]
  },
  {
   "cell_type": "markdown",
   "metadata": {},
   "source": [
    "### Se normalizan los datos\n",
    "Para que el entrenamiento de las redes neuronales sea más efectivo es necesario normalizar los datos. <br>\n",
    "El criterio de normalización es el que aparece en la **\"Sección 3.6: Standardisation.\" del paper de Jack Kelly**.\n",
    "<br><br>\n",
    "**Entrada**: Se le resta la media a cada fila (muestra) y se divide por la media de las desviaciones estandar **de train**.<br>\n",
    "**Salida**: Se divide entre el valor máximo en potencia en train, de forma que la salida este en el rango [0,1]. Este calculo depende de que tipo de red se trate\n",
    "\n",
    "\n",
    "NOTA: Los valores utilizados para la normalización solo se calculan para entrenar salvo a la hora de restar la media. Es decir, para predecir valores se debe normalizar con la desviación estándar de train y NO de ella misma.\n"
   ]
  },
  {
   "cell_type": "code",
   "execution_count": null,
   "metadata": {},
   "outputs": [],
   "source": [
    "# Normalizacion de X e y\n",
    "std_entrada = np.nanmean(np.nanstd(X_train, axis=1))\n",
    "X_train_norm = uk.utils.normalize_X(X_train, std_entrada)\n",
    "X_val_norm = uk.utils.normalize_X(X_val, std_entrada)\n",
    "\n",
    "if TIPO_RED=='rectangulos':\n",
    "    std_salida = np.max(y_train[:, 0]) ### Para red de rectangulos\n",
    "else:\n",
    "    std_salida = np.max(y_train) ### Para red de autoencoder\n",
    "y_train_norm = uk.utils.normalize_Y(y_train, std_salida, TIPO_RED)\n",
    "y_val_norm = uk.utils.normalize_Y(y_val, std_salida, TIPO_RED)"
   ]
  },
  {
   "cell_type": "markdown",
   "metadata": {},
   "source": [
    "## Se define el modelo de red neuronal utilizada\n",
    "A continuacion se oueden observar los 2 posible modelos, el primero el de rectangulos, el segundo el de autoencoder.\n",
    "<img src=\"img/arquitecturas.jpg\"  width=\"750\">"
   ]
  },
  {
   "cell_type": "code",
   "execution_count": null,
   "metadata": {},
   "outputs": [],
   "source": [
    "input_size = X_train.shape[1]\n",
    "\n",
    "if TIPO_RED=='rectangulos':\n",
    "    model = uk.redes.rectangulos(input_size)\n",
    "elif TIPO_RED=='autoencoder':\n",
    "    model = uk.redes.autoencoder(input_size)\n",
    "\n",
    "model.summary()\n",
    "model.compile(loss=\"MSE\")"
   ]
  },
  {
   "cell_type": "markdown",
   "metadata": {},
   "source": [
    "### Se entrena la red"
   ]
  },
  {
   "cell_type": "code",
   "execution_count": null,
   "metadata": {},
   "outputs": [],
   "source": [
    "history = model.fit(X_train_norm, y_train_norm, epochs=NUM_EPOCAS, validation_data = (X_val_norm, y_val_norm))"
   ]
  },
  {
   "cell_type": "markdown",
   "metadata": {},
   "source": [
    "### Grafica de la loss"
   ]
  },
  {
   "cell_type": "code",
   "execution_count": null,
   "metadata": {},
   "outputs": [],
   "source": [
    "plt.figure()\n",
    "plt.title(\"Loss function through training\")\n",
    "plt.plot(history.history['loss'])\n",
    "plt.plot(history.history['val_loss'])\n",
    "plt.ylabel(\"Loss\")\n",
    "plt.xlabel(\"Epochs\")\n",
    "plt.legend([\"Training loss\", \"Validation loss\"])"
   ]
  },
  {
   "cell_type": "markdown",
   "metadata": {},
   "source": []
  },
  {
   "cell_type": "markdown",
   "metadata": {},
   "source": [
    "## Se guardan los pesos y valores de normalizacion"
   ]
  },
  {
   "cell_type": "code",
   "execution_count": null,
   "metadata": {},
   "outputs": [],
   "source": [
    "import os\n",
    "import json\n",
    "uk.crear_estructura_carpetas_pesos(RUTA_DATOS_ENTRENAMIENTO)\n",
    "path = os.path.join(RUTA_DATOS_ENTRENAMIENTO, 'data', TIPO_RED, ELECTRODOMESTICO)\n",
    "\n",
    "# Guardo los pesos de la red\n",
    "model.save_weights(os.path.join(path,  'pesos.h5'))\n",
    "\n",
    "# Guardo los valores de normalizacion de datos\n",
    "np.save(os.path.join(path,  'std_entrada.npy'), std_entrada)\n",
    "np.save(os.path.join(path,  'std_salida.npy'), std_salida)\n",
    "\n",
    "# Guardo la evolucion de la loss de entrenamiento\n",
    "json.dump(history.history, open(os.path.join(path, 'loss.json'), 'w'))"
   ]
  },
  {
   "cell_type": "markdown",
   "metadata": {},
   "source": [
    "### Se predicen los valores de validación\n",
    "Luego de predecir se desnormaliza"
   ]
  },
  {
   "cell_type": "code",
   "execution_count": null,
   "metadata": {},
   "outputs": [],
   "source": [
    "# Prediccion sobre X_val\n",
    "y_pred_norm = model.predict(X_val_norm)\n",
    "if TIPO_RED=='autoencoder':\n",
    "    y_pred_norm = y_pred_norm[:,:,0]"
   ]
  },
  {
   "cell_type": "code",
   "execution_count": null,
   "metadata": {},
   "outputs": [],
   "source": [
    "#Desnormalizo\n",
    "y_pred = uk.utils.unnormalize_Y(y_pred_norm, std_salida, TIPO_RED)"
   ]
  },
  {
   "cell_type": "markdown",
   "metadata": {},
   "source": [
    "## Grafica de resultados\n",
    "Se muestran los 10 primeros valores predecidos"
   ]
  },
  {
   "cell_type": "code",
   "execution_count": null,
   "metadata": {
    "scrolled": true
   },
   "outputs": [],
   "source": [
    "# Grafico algunos resultados\n",
    "for i in range(0,10):\n",
    "    plt.figure()\n",
    "    if TIPO_RED=='autoencoder':\n",
    "        y_pred_plot = y_pred[i,:] \n",
    "        y_val_plot = y_val[i,:] \n",
    "    elif TIPO_RED=='rectangulos':\n",
    "        y_pred_plot = uk.utils.salida_rectangulos_to_serie_numpy(y_pred[i,:], size=X_val.shape[1])\n",
    "        y_val_plot = uk.utils.salida_rectangulos_to_serie_numpy(y_val[i,:], size=X_val.shape[1])\n",
    "    plt.plot(y_pred_plot, label='Predict')\n",
    "    plt.plot(X_val[i,:,0], label='Input')\n",
    "    plt.plot(y_val_plot, label='Target')\n",
    "    plt.grid()\n",
    "    plt.legend()"
   ]
  }
 ],
 "metadata": {
  "jupytext": {
   "encoding": "# -*- coding: utf-8 -*-",
   "formats": "ipynb,notebooks_py//py:percent"
  },
  "kernelspec": {
   "display_name": "Python 3",
   "language": "python",
   "name": "python3"
  },
  "language_info": {
   "codemirror_mode": {
    "name": "ipython",
    "version": 3
   },
   "file_extension": ".py",
   "mimetype": "text/x-python",
   "name": "python",
   "nbconvert_exporter": "python",
   "pygments_lexer": "ipython3",
   "version": "3.8.3"
  }
 },
 "nbformat": 4,
 "nbformat_minor": 4
}
