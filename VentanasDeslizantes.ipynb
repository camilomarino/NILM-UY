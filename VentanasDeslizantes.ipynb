{
 "cells": [
  {
   "cell_type": "markdown",
   "metadata": {},
   "source": [
    "# Ejemplo de uso de biblioteca uk-nilm"
   ]
  },
  {
   "cell_type": "markdown",
   "metadata": {},
   "source": [
    "## Celda Colab\n",
    "Si se corre en Colab tendra que montar su google drive y seleccionar en ***PATH_DRIVE*** el directorio en el que esta clonado su repositorio"
   ]
  },
  {
   "cell_type": "code",
   "execution_count": null,
   "metadata": {},
   "outputs": [],
   "source": [
    "PATH_DRIVE =  '/content/drive/My Drive/base_de_datos_nilm'\n",
    "import os\n",
    "if 'COLAB_GPU' in os.environ:\n",
    "    print(\"Estoy corriendo en Colab\")\n",
    "    %tensorflow_version 2.x\n",
    "    import tensorflow as tf\n",
    "    device_name = tf.test.gpu_device_name()\n",
    "    if device_name != '/device:GPU:0':\n",
    "        raise SystemError('No se ha activado la GPU de Colab')\n",
    "    print('Found GPU at: {}'.format(device_name))\n",
    "    from google.colab import drive\n",
    "    drive.mount('/content/drive')\n",
    "    %cd $PATH_DRIVE\n",
    "   \n",
    "else:\n",
    "   print(\"NO estoy corriendo en Colab\")"
   ]
  },
  {
   "cell_type": "markdown",
   "metadata": {},
   "source": [
    "# Importar librerias"
   ]
  },
  {
   "cell_type": "code",
   "execution_count": null,
   "metadata": {},
   "outputs": [],
   "source": [
    "import numpy as np\n",
    "import uk\n",
    "import matplotlib.pyplot as plt\n",
    "%matplotlib notebook\n",
    "%load_ext autoreload\n",
    "%autoreload 2"
   ]
  },
  {
   "cell_type": "markdown",
   "metadata": {},
   "source": [
    "# Fijar parametros"
   ]
  },
  {
   "cell_type": "code",
   "execution_count": null,
   "metadata": {},
   "outputs": [],
   "source": [
    "ELECTRODOMESTICO = 'kettle' #Electrodomestico para el que se entrenara la red\n",
    "TIPO_RED = 'autoencoder' #Tipo de red a utilizar\n",
    "RUTA_DE_DATOS_PICKLE = '' #ruta en la que se encuentralos pickles que contienen todas las series temporales\n",
    "RUTA_DATOS_ENTRENAMIENTO = 'pesos' #Carpeta en la que se guardaran los datos generados en el entrenamiento\n",
    "DATOS_FIN_o_INICIO = 'fin' # Indica si se van a usar las ultimas 2 semanas(fin) o todo el resto(inicio) \n",
    "                               # o datos de uruguayUruguay\n",
    "NUMERO_CASA = 1 #numero de casa, puede ser [1,2,3,4,5] para los datos de UK o [6,7] para los de UY\n",
    "INPUT_SIZE = uk.ventana_deslizante.input_size_default[ELECTRODOMESTICO] "
   ]
  },
  {
   "cell_type": "markdown",
   "metadata": {},
   "source": [
    "## Cargar datos"
   ]
  },
  {
   "cell_type": "code",
   "execution_count": null,
   "metadata": {},
   "outputs": [],
   "source": [
    "from os.path import join\n",
    "import json\n",
    "path = join(RUTA_DATOS_ENTRENAMIENTO, 'data', TIPO_RED, ELECTRODOMESTICO)\n",
    "RUTA_PESOS = join(path, 'pesos.h5')\n",
    "history = json.load(open(join(path, 'loss.json'), 'r'))\n",
    "std_entrada = np.load(join(path, 'std_entrada.npy'))\n",
    "std_salida = np.load(join(path, 'std_salida.npy'))\n",
    "\n",
    "if DATOS_FIN_o_INICIO=='inicio':\n",
    "    datos = uk.cargar(join(RUTA_DE_DATOS_PICKLE, 'datos_ini.pickle'))\n",
    "elif DATOS_FIN_o_INICIO=='fin':\n",
    "    datos = uk.cargar(join(RUTA_DE_DATOS_PICKLE, 'datos_fin.pickle'))\n",
    "elif DATOS_FIN_o_INICIO=='uruguay':\n",
    "    datos = uk.cargar(join(RUTA_DE_DATOS_PICKLE, 'datos_uruguay.pickle'))"
   ]
  },
  {
   "cell_type": "markdown",
   "metadata": {
    "scrolled": true
   },
   "source": [
    "## Se calcula los vectores por el metodo de ventanas deslizantes"
   ]
  },
  {
   "cell_type": "code",
   "execution_count": null,
   "metadata": {
    "scrolled": false
   },
   "outputs": [],
   "source": [
    "y_predict, y_real, aggregate = uk.ventana_deslizante.generar_pred(std_entrada = std_entrada,\n",
    "                                                                     std_salida =  std_salida,\n",
    "                                                                     datos = datos,\n",
    "                                                                     ruta_pesos = RUTA_PESOS,\n",
    "                                                                     electrodomestico = ELECTRODOMESTICO,\n",
    "                                                                     num_casa = NUMERO_CASA, \n",
    "                                                                     modelname = TIPO_RED, \n",
    "                                                                     input_size = INPUT_SIZE)"
   ]
  },
  {
   "cell_type": "markdown",
   "metadata": {},
   "source": [
    "## Plot de la ventana predecida"
   ]
  },
  {
   "cell_type": "code",
   "execution_count": null,
   "metadata": {},
   "outputs": [],
   "source": [
    "plt.figure()\n",
    "plt.plot(y_predict, '-', label='y predict')\n",
    "plt.plot(y_real, '--', label='y real')\n",
    "plt.plot(aggregate, '-.',label='aggregate')\n",
    "plt.legend()"
   ]
  },
  {
   "cell_type": "markdown",
   "metadata": {},
   "source": [
    "## Metricas"
   ]
  },
  {
   "cell_type": "code",
   "execution_count": null,
   "metadata": {},
   "outputs": [],
   "source": [
    "y_ventana_predict, y_ventana_real = uk.ventana_deslizante.get_Y_ventana_deslizante(y_predict, y_real, INPUT_SIZE)"
   ]
  },
  {
   "cell_type": "code",
   "execution_count": null,
   "metadata": {},
   "outputs": [],
   "source": [
    "epsilon = 0.0001\n",
    "recalls, precisions, accuracys, fprs, f1s, threshs = (\n",
    "    uk.metricas.roc(y_ventana_real+epsilon, y_ventana_predict, TIPO_RED, True, elec=ELECTRODOMESTICO)\n",
    "    )"
   ]
  },
  {
   "cell_type": "code",
   "execution_count": null,
   "metadata": {},
   "outputs": [],
   "source": [
    "def show_results(recalls, precisions, accuracys, fprs, f1s, threshs, y_real, y_predict, plot_auc=True):\n",
    "    argmax = np.nanargmax(f1s)\n",
    "    umbral = threshs[argmax]\n",
    "    \n",
    "    if plot_auc: \n",
    "        uk.metricas.plot_roc(recalls, fprs, elec=ELECTRODOMESTICO, argmax=argmax, umbral=umbral)\n",
    "    \n",
    "    reite = uk.metricas.REITE(y_real, y_predict, 'ventanas')\n",
    "    mae = uk.metricas.MAE(y_real, y_predict, 'ventanas')\n",
    "\n",
    "    if plot_auc:\n",
    "        print(f\"AUC\\t\\t\\t: {uk.metricas.auc(recalls, fprs)}\")\n",
    "        print(\"--------------------\"*3)\n",
    "        print(\"\\n\")\n",
    "    print(f\"Recall\\t\\t\\t: {recalls[argmax]}\")\n",
    "    print(\"--------------------\"*3)\n",
    "    print(f\"Precision\\t\\t: {precisions[argmax]}\")\n",
    "    print(\"--------------------\"*3)\n",
    "    print(f\"Accuracy\\t\\t: {accuracys[argmax]}\")\n",
    "    print(\"--------------------\"*3)\n",
    "    print(f\"False positive rate\\t: {fprs[argmax]}\")\n",
    "    print(\"--------------------\"*3)\n",
    "    print(f\"f1-score\\t\\t: {f1s[argmax]}\")\n",
    "    print(\"--------------------\"*3)\n",
    "    print(\"\\n\")\n",
    "    print(f\"REITE\\t\\t\\t: {reite}\")\n",
    "    print(\"--------------------\"*3)\n",
    "    print(f\"MAE\\t\\t\\t: {mae}\")\n",
    "    return argmax"
   ]
  },
  {
   "cell_type": "code",
   "execution_count": null,
   "metadata": {
    "lines_to_next_cell": 2
   },
   "outputs": [],
   "source": [
    "argmax = show_results(recalls, precisions, accuracys, fprs, f1s, threshs, y_real, y_predict)\n",
    "umbral = threshs[argmax]"
   ]
  },
  {
   "cell_type": "markdown",
   "metadata": {},
   "source": [
    "#  Umbralizacion\n",
    "Ahora se realiza una umbralizacion sumamente sencilla. Se \"matan\" los valores por arriba del umbral (se los ponen en 0), ademas se multiplica por un factor arbitrario 0.8. Por ultimo, se limita la prediccion a el valor de la serie agregada."
   ]
  },
  {
   "cell_type": "code",
   "execution_count": null,
   "metadata": {},
   "outputs": [],
   "source": [
    "umbral"
   ]
  },
  {
   "cell_type": "code",
   "execution_count": null,
   "metadata": {},
   "outputs": [],
   "source": [
    "y_predict_umbralizada = y_predict.copy()\n",
    "y_predict_umbralizada[y_predict_umbralizada<umbral] = 0.00001 #Si ponemos 0 se producen errores numericos\n",
    "y_predict_umbralizada[y_predict_umbralizada>aggregate] = aggregate[y_predict_umbralizada>aggregate]"
   ]
  },
  {
   "cell_type": "code",
   "execution_count": null,
   "metadata": {},
   "outputs": [],
   "source": [
    "plt.figure()\n",
    "#plt.plot(y_predict, '-', label='y predict')\n",
    "plt.plot(y_real, '--', label='y real')\n",
    "plt.plot(aggregate, '-.',label='aggregate')\n",
    "plt.plot(y_predict_umbralizada, '-', label='y predict umbralizada', alpha=0.7)\n",
    "plt.legend()"
   ]
  },
  {
   "cell_type": "code",
   "execution_count": null,
   "metadata": {},
   "outputs": [],
   "source": [
    "reite = uk.metricas.REITE(y_real, y_predict_umbralizada, 'ventanas')\n",
    "mae = uk.metricas.MAE(y_real, y_predict_umbralizada, 'ventanas')\n",
    "print(f\"\\nREITE\\t\\t\\t: {reite}\")\n",
    "print(\"--------------------\"*3)\n",
    "print(f\"MAE\\t\\t\\t: {mae}\\n\")"
   ]
  },
  {
   "cell_type": "code",
   "execution_count": null,
   "metadata": {},
   "outputs": [],
   "source": [
    "print(np.mean(y_real))\n",
    "print(np.mean(y_predict))\n",
    "print(np.mean(y_predict_umbralizada))"
   ]
  }
 ],
 "metadata": {
  "jupytext": {
   "formats": "ipynb,notebooks_py//py:percent"
  },
  "kernelspec": {
   "display_name": "Python 3",
   "language": "python",
   "name": "python3"
  },
  "language_info": {
   "codemirror_mode": {
    "name": "ipython",
    "version": 3
   },
   "file_extension": ".py",
   "mimetype": "text/x-python",
   "name": "python",
   "nbconvert_exporter": "python",
   "pygments_lexer": "ipython3",
   "version": "3.8.3"
  }
 },
 "nbformat": 4,
 "nbformat_minor": 4
}
